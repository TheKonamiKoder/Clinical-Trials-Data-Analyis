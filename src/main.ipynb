{
 "cells": [
  {
   "attachments": {},
   "cell_type": "markdown",
   "metadata": {},
   "source": [
    "<h1>Clinical Trials Data Analysis</h1>\n",
    "\n",
    "<h2>Introduction</h2>\n",
    "\n",
    "In this project, I will attempt to find the best hospital(s) to select 200 patients for clinical trial with the following conditions:\n",
    "\n",
    "1. Aged 50 or above\n",
    "2. Has a peak flow reading above 400 litres per minute (litres/min)\n",
    "3. Has not had a flu case or flu shot in the last 6 months\n",
    "4. Does not have an egg allergy\n",
    "5. Does not have a history of respiratory conditions\n",
    "6. Has a BMI (Body Mass Index) between 18-32 kg/m<sup>2</sup>\n",
    "7. Non-smokers only"
   ]
  },
  {
   "cell_type": "code",
   "execution_count": 1,
   "metadata": {},
   "outputs": [
    {
     "data": {
      "text/html": [
       "<div>\n",
       "<style scoped>\n",
       "    .dataframe tbody tr th:only-of-type {\n",
       "        vertical-align: middle;\n",
       "    }\n",
       "\n",
       "    .dataframe tbody tr th {\n",
       "        vertical-align: top;\n",
       "    }\n",
       "\n",
       "    .dataframe thead th {\n",
       "        text-align: right;\n",
       "    }\n",
       "</style>\n",
       "<table border=\"1\" class=\"dataframe\">\n",
       "  <thead>\n",
       "    <tr style=\"text-align: right;\">\n",
       "      <th></th>\n",
       "      <th>Unnamed: 0</th>\n",
       "      <th>SITEID</th>\n",
       "      <th>SUBJID</th>\n",
       "      <th>SEX</th>\n",
       "      <th>AGE</th>\n",
       "      <th>RACE</th>\n",
       "      <th>ALLERGY</th>\n",
       "      <th>MEDICAL</th>\n",
       "      <th>SMOKER</th>\n",
       "      <th>LAST_DOSE_FLU</th>\n",
       "      <th>BMI</th>\n",
       "      <th>PEAK_FLOW_1</th>\n",
       "      <th>PEAK_FLOW_2</th>\n",
       "      <th>PEAK_FLOW_3</th>\n",
       "    </tr>\n",
       "  </thead>\n",
       "  <tbody>\n",
       "    <tr>\n",
       "      <th>0</th>\n",
       "      <td>0</td>\n",
       "      <td>Hospital A</td>\n",
       "      <td>GSK0001</td>\n",
       "      <td>M</td>\n",
       "      <td>79</td>\n",
       "      <td>MIXED</td>\n",
       "      <td>NaN</td>\n",
       "      <td>NaN</td>\n",
       "      <td>False</td>\n",
       "      <td>False</td>\n",
       "      <td>26</td>\n",
       "      <td>653</td>\n",
       "      <td>635</td>\n",
       "      <td>651</td>\n",
       "    </tr>\n",
       "    <tr>\n",
       "      <th>1</th>\n",
       "      <td>1</td>\n",
       "      <td>Hospital A</td>\n",
       "      <td>GSK0002</td>\n",
       "      <td>M</td>\n",
       "      <td>62</td>\n",
       "      <td>WHITE</td>\n",
       "      <td>NaN</td>\n",
       "      <td>NaN</td>\n",
       "      <td>False</td>\n",
       "      <td>True</td>\n",
       "      <td>35</td>\n",
       "      <td>458</td>\n",
       "      <td>449</td>\n",
       "      <td>438</td>\n",
       "    </tr>\n",
       "    <tr>\n",
       "      <th>2</th>\n",
       "      <td>2</td>\n",
       "      <td>Hospital A</td>\n",
       "      <td>GSK0003</td>\n",
       "      <td>M</td>\n",
       "      <td>71</td>\n",
       "      <td>ASIAN</td>\n",
       "      <td>NaN</td>\n",
       "      <td>NaN</td>\n",
       "      <td>True</td>\n",
       "      <td>True</td>\n",
       "      <td>21</td>\n",
       "      <td>370</td>\n",
       "      <td>350</td>\n",
       "      <td>352</td>\n",
       "    </tr>\n",
       "    <tr>\n",
       "      <th>3</th>\n",
       "      <td>3</td>\n",
       "      <td>Hospital A</td>\n",
       "      <td>GSK0004</td>\n",
       "      <td>M</td>\n",
       "      <td>73</td>\n",
       "      <td>BLACK</td>\n",
       "      <td>NaN</td>\n",
       "      <td>Heart</td>\n",
       "      <td>False</td>\n",
       "      <td>False</td>\n",
       "      <td>22</td>\n",
       "      <td>414</td>\n",
       "      <td>412</td>\n",
       "      <td>412</td>\n",
       "    </tr>\n",
       "    <tr>\n",
       "      <th>4</th>\n",
       "      <td>4</td>\n",
       "      <td>Hospital A</td>\n",
       "      <td>GSK0005</td>\n",
       "      <td>F</td>\n",
       "      <td>66</td>\n",
       "      <td>WHITE</td>\n",
       "      <td>NaN</td>\n",
       "      <td>NaN</td>\n",
       "      <td>False</td>\n",
       "      <td>True</td>\n",
       "      <td>29</td>\n",
       "      <td>632</td>\n",
       "      <td>651</td>\n",
       "      <td>627</td>\n",
       "    </tr>\n",
       "  </tbody>\n",
       "</table>\n",
       "</div>"
      ],
      "text/plain": [
       "   Unnamed: 0      SITEID   SUBJID SEX  AGE   RACE ALLERGY MEDICAL  SMOKER   \n",
       "0           0  Hospital A  GSK0001   M   79  MIXED     NaN     NaN   False  \\\n",
       "1           1  Hospital A  GSK0002   M   62  WHITE     NaN     NaN   False   \n",
       "2           2  Hospital A  GSK0003   M   71  ASIAN     NaN     NaN    True   \n",
       "3           3  Hospital A  GSK0004   M   73  BLACK     NaN   Heart   False   \n",
       "4           4  Hospital A  GSK0005   F   66  WHITE     NaN     NaN   False   \n",
       "\n",
       "  LAST_DOSE_FLU  BMI  PEAK_FLOW_1  PEAK_FLOW_2  PEAK_FLOW_3  \n",
       "0         False   26          653          635          651  \n",
       "1          True   35          458          449          438  \n",
       "2          True   21          370          350          352  \n",
       "3         False   22          414          412          412  \n",
       "4          True   29          632          651          627  "
      ]
     },
     "execution_count": 1,
     "metadata": {},
     "output_type": "execute_result"
    }
   ],
   "source": [
    "import pandas as pd\n",
    "import numpy as np\n",
    "import matplotlib.pyplot as plt\n",
    "\n",
    "# The excel spreadsheet has been converted to a csv file so that it can be read easily\n",
    "df = pd.read_csv(\"../data/hospitals_data.csv\")\n",
    "\n",
    "df.head()"
   ]
  },
  {
   "attachments": {},
   "cell_type": "markdown",
   "metadata": {},
   "source": [
    "<h2>Cleaning the data</h2>\n",
    "\n",
    "There are a few things I need to do in order to clean the data.\n",
    "\n",
    "1. Remove the `Unamed` row. This row is probably there due to it being an artefact when being converted from Excel to CSV format, so is unnecassery\n",
    "2. Remove any duplicate rows\n",
    "3. Remove any rows with invalid data\n",
    "4. For the `AGE` row, change any data with obvious typos in it"
   ]
  },
  {
   "cell_type": "code",
   "execution_count": 2,
   "metadata": {},
   "outputs": [
    {
     "name": "stdout",
     "output_type": "stream",
     "text": [
      "{1536, 2050, 1539, 2051, 1545, 532, 534, 2072, 2092, 1584, 1590, 2107, 2110, 576, 1603, 1605, 2126, 591, 1616, 1113, 2146, 1635, 612, 1650, 1150, 2174, 2178, 1677, 1167, 2193, 1687, 1692, 2207, 1697, 1193, 171, 2220, 1197, 1205, 2229, 2235, 2236, 1726, 1730, 708, 2254, 1744, 209, 2271, 1251, 1255, 1263, 1265, 245, 761, 1274, 768, 1796, 261, 1298, 278, 1819, 285, 1821, 1313, 1315, 807, 296, 1319, 304, 828, 1353, 340, 1876, 1879, 1888, 1890, 356, 367, 368, 1909, 1922, 1935, 404, 1429, 408, 1433, 411, 923, 413, 1441, 1957, 940, 1973, 438, 445, 1481, 973, 468, 470, 984, 1496, 2011, 991, 2018, 1517, 505, 1519, 2039, 1529}\n",
      "There were originally 2284 rows.\n",
      "     After removing invalid rows, there are 2121 rows.\n",
      "     In total, 163 rows have been dropped.\n"
     ]
    }
   ],
   "source": [
    "pre_clean_count = len(df.index)     # Used with `post_clean_count` to show how many rows were dropped\n",
    "\n",
    "# Removes the unamed column (which is first)\n",
    "df.drop(columns=[df.columns[0]], axis=1, inplace=True)\n",
    "\n",
    "# Removes any rows with *invalid* data\n",
    "# In this case, I am going to deal with typos (such as in AGE column) later\n",
    "# At first I will remove all items which *have* to be wrong  \n",
    "valid_data = {\n",
    "    \"SITEID\"        : (lambda site_id: pd.notna(site_id)),                                  # The SITEID cannot be N/A\n",
    "    \"SUBJID\"        : (lambda subj_id: pd.notna(subj_id)),                                  # The SUBJID cannot be N/A\n",
    "    \"SEX\"           : (lambda sex: pd.notna(sex)),                                          # The SEX cannot be N/A\n",
    "    \"AGE\"           : (lambda age: str(age).strip('-').isnumeric()),                        # The AGE must be numeric (allowing negative values to clean)\n",
    "    \"RACE\"          : (lambda race: race in [\"MIXED\", \"WHITE\", \"ASIAN\", \"BLACK\", \"OTHER\"]), # The RACE can only hvave the values which are in the list\n",
    "    \"ALLERGY\"       : (lambda allergy: True),                                               # The ALLERGY can essentially be anything - N/A or a string\n",
    "    \"MEDICAL\"       : (lambda medical: True),                                               # The MEDICAL can also be abything N/A or a string\n",
    "    \"SMOKER\"        : (lambda smoker: type(smoker) == bool),                                # The smoker can only be a boolean (not N/A)\n",
    "    \"LAST_DOSE_FLU\" : (lambda last_dose_flu: type(last_dose_flu) == bool),                  # The last flu shot can also only be a boolean\n",
    "    \"BMI\"           : (lambda bmi: str(bmi).isnumeric()),                                   # The BMI can only be numeric as well\n",
    "    \"PEAK_FLOW_1\"   : (lambda peak_flow: str(peak_flow).isnumeric()),                       # The PEAK_FLOW columns can also only be numeric\n",
    "    \"PEAK_FLOW_2\"   : (lambda peak_flow: str(peak_flow).isnumeric()),                       # The PEAK_FLOW columns can also only be numeric\n",
    "    \"PEAK_FLOW_3\"   : (lambda peak_flow: str(peak_flow).isnumeric()),                       # The PEAK_FLOW columns can also only be numeric     \n",
    "}\n",
    "\n",
    "# Removing all rows which cannot be valid by using the valid_data dictionary\n",
    "invalid_rows = set()   # Set is used to avoid duplicate values\n",
    "for column in df.columns:\n",
    "    for index, field in df[column].items():\n",
    "        if not valid_data[column](field): \n",
    "            invalid_rows.add(index)\n",
    "\n",
    "print(invalid_rows)\n",
    "df.drop(invalid_rows, inplace=True)\n",
    "\n",
    "# Removes any duplicate rows\n",
    "df.drop_duplicates(inplace=True)\n",
    "\n",
    "post_clean_count = len(df.index)\n",
    "\n",
    "print(f\"There were originally {pre_clean_count} rows.\\n \\\n",
    "    After removing invalid rows, there are {post_clean_count} rows.\\n \\\n",
    "    In total, {pre_clean_count - post_clean_count} rows have been dropped.\")"
   ]
  },
  {
   "attachments": {},
   "cell_type": "markdown",
   "metadata": {},
   "source": [
    "Now it is time to clean the typos in the `AGE` column.\n",
    "There are two main typos in the `AGE` column\n",
    "The first typo is making the age negative, and the second typo is adding an extra 0."
   ]
  },
  {
   "cell_type": "code",
   "execution_count": 3,
   "metadata": {},
   "outputs": [
    {
     "name": "stdout",
     "output_type": "stream",
     "text": [
      "0       79\n",
      "1       62\n",
      "2       71\n",
      "3       73\n",
      "4       66\n",
      "        ..\n",
      "2275    77\n",
      "2276    83\n",
      "2277    63\n",
      "2278    86\n",
      "2279    58\n",
      "Name: AGE, Length: 2121, dtype: int64\n",
      "The minimum and maximum ages before cleaning were (-94, 880) respectively. \n",
      "     The minimum and maximum ages after cleaning were (28, 105) respectively.\n"
     ]
    }
   ],
   "source": [
    "pre_clean_age_minmax = min(df[\"AGE\"]), max(df[\"AGE\"])\n",
    "\n",
    "for l in df[\"AGE\"]:\n",
    "    if l == 0:\n",
    "        print(l)\n",
    "\n",
    "df[\"AGE\"] = df[\"AGE\"].abs()     # Makes all the negative numbers positive\n",
    "df[\"AGE\"] = df[\"AGE\"].map(lambda age: age // 10 if age > 150 else age)     # Removes the extra '0' from big numbers (e.g. 880 becomes 88)\n",
    "\n",
    "print(df[\"AGE\"])\n",
    "\n",
    "post_clean_age_minmax = min(df[\"AGE\"]), max(df[\"AGE\"])\n",
    "\n",
    "print(f\"The minimum and maximum ages before cleaning were {pre_clean_age_minmax} respectively. \\n \\\n",
    "    The minimum and maximum ages after cleaning were {post_clean_age_minmax} respectively.\")"
   ]
  },
  {
   "attachments": {},
   "cell_type": "markdown",
   "metadata": {},
   "source": [
    "<h2>Summary Statistics</h2>\n",
    "\n",
    "In this section, I will represent some summary statistics for each site.\n",
    "There are 5 different sites:\n",
    "1. Hospital A\n",
    "2. Hospital B\n",
    "3. Hospital C\n",
    "4. Hospital D\n",
    "5. Hospital E\n"
   ]
  },
  {
   "cell_type": "code",
   "execution_count": 4,
   "metadata": {},
   "outputs": [
    {
     "data": {
      "image/png": "[encoded data removed]",
      "text/plain": [
       "<Figure size 640x480 with 1 Axes>"
      ]
     },
     "metadata": {},
     "output_type": "display_data"
    }
   ],
   "source": [
    "# Shows the age range in all sites as a box plot so it is easy to compare them\n",
    "\n",
    "labels = df[\"SITEID\"].unique()      # The labels will be all of the sites\n",
    "data = []\n",
    "\n",
    "# Appends age for each site to data\n",
    "for site_id in df[\"SITEID\"].unique():\n",
    "    data.append([age for i, age in df[\"AGE\"].items() if df[\"SITEID\"][i] == site_id])\n",
    "    \n",
    "plt.boxplot(x=data, labels=labels, notch=True, vert=False)\n",
    "plt.show()"
   ]
  },
  {
   "attachments": {},
   "cell_type": "markdown",
   "metadata": {},
   "source": [
    "From the above graph, it can be seen that Hospital A has the oldest patients on average, and Hospital B having the youngest patients on average. It can also be seen that most patients seem to be above 50 for all sites as well."
   ]
  },
  {
   "cell_type": "code",
   "execution_count": 5,
   "metadata": {},
   "outputs": [
    {
     "data": {
      "image/png": "[encoded data removed]",
      "text/plain": [
       "<Figure size 640x480 with 1 Axes>"
      ]
     },
     "metadata": {},
     "output_type": "display_data"
    }
   ],
   "source": [
    "# We can make a similar set of box plots for the BMI\n",
    "\n",
    "labels = df[\"SITEID\"].unique()      # The labels will be all of the sites\n",
    "data = []\n",
    "\n",
    "# Appends age for each site to data\n",
    "for site_id in df[\"SITEID\"].unique():\n",
    "    data.append([age for i, age in df[\"BMI\"].items() if df[\"SITEID\"][i] == site_id])\n",
    "    \n",
    "plt.boxplot(x=data, labels=labels, notch=True, vert=False)\n",
    "plt.show()"
   ]
  },
  {
   "attachments": {},
   "cell_type": "markdown",
   "metadata": {},
   "source": [
    "The BMI is spread pretty evenly accross most hospitals, with the median being around 25.0 (with the exception of Hospital D which has a higher median BMI). "
   ]
  },
  {
   "attachments": {},
   "cell_type": "markdown",
   "metadata": {},
   "source": [
    "I also wanted to give some summary stats on the average peak flow rate as well."
   ]
  },
  {
   "cell_type": "code",
   "execution_count": 6,
   "metadata": {},
   "outputs": [
    {
     "data": {
      "image/png": "[encoded data removed]",
      "text/plain": [
       "<Figure size 640x480 with 1 Axes>"
      ]
     },
     "metadata": {},
     "output_type": "display_data"
    }
   ],
   "source": [
    "# To give summary statistics on the peak flow rate, the average peak flow rate needs to be found.\n",
    "df[\"PEAK_FLOW_MEAN\"] = (df[\"PEAK_FLOW_1\"] + df[\"PEAK_FLOW_2\"] + df[\"PEAK_FLOW_3\"]) / 3\n",
    "\n",
    "# A similar box plot can be made as done with the AGE and the BMI\n",
    "labels = df[\"SITEID\"].unique()      # The labels will be all of the sites\n",
    "data = []\n",
    "\n",
    "# Appends age for each site to data\n",
    "for site_id in df[\"SITEID\"].unique():\n",
    "    data.append([age for i, age in df[\"PEAK_FLOW_MEAN\"].items() if df[\"SITEID\"][i] == site_id])\n",
    "    \n",
    "plt.boxplot(x=data, labels=labels, notch=True, vert=False)\n",
    "plt.show()"
   ]
  },
  {
   "attachments": {},
   "cell_type": "markdown",
   "metadata": {},
   "source": [
    "All of the hospitals have a similar mean peak flow on average, but Hospital E has the smallest distribution."
   ]
  },
  {
   "attachments": {},
   "cell_type": "markdown",
   "metadata": {},
   "source": [
    "<h2>Finding the Best Hospital</h2>\n",
    "\n",
    "In this section, the number of patients who fit the inclusion/exclusion criteria will be found."
   ]
  },
  {
   "cell_type": "code",
   "execution_count": 7,
   "metadata": {},
   "outputs": [
    {
     "name": "stdout",
     "output_type": "stream",
     "text": [
      "There are 461 patients who can do the clinical tr\n"
     ]
    },
    {
     "data": {
      "text/html": [
       "<div>\n",
       "<style scoped>\n",
       "    .dataframe tbody tr th:only-of-type {\n",
       "        vertical-align: middle;\n",
       "    }\n",
       "\n",
       "    .dataframe tbody tr th {\n",
       "        vertical-align: top;\n",
       "    }\n",
       "\n",
       "    .dataframe thead th {\n",
       "        text-align: right;\n",
       "    }\n",
       "</style>\n",
       "<table border=\"1\" class=\"dataframe\">\n",
       "  <thead>\n",
       "    <tr style=\"text-align: right;\">\n",
       "      <th></th>\n",
       "      <th>SITEID</th>\n",
       "      <th>SUBJID</th>\n",
       "      <th>SEX</th>\n",
       "      <th>AGE</th>\n",
       "      <th>RACE</th>\n",
       "      <th>ALLERGY</th>\n",
       "      <th>MEDICAL</th>\n",
       "      <th>SMOKER</th>\n",
       "      <th>LAST_DOSE_FLU</th>\n",
       "      <th>BMI</th>\n",
       "      <th>PEAK_FLOW_1</th>\n",
       "      <th>PEAK_FLOW_2</th>\n",
       "      <th>PEAK_FLOW_3</th>\n",
       "      <th>PEAK_FLOW_MEAN</th>\n",
       "    </tr>\n",
       "  </thead>\n",
       "  <tbody>\n",
       "    <tr>\n",
       "      <th>0</th>\n",
       "      <td>Hospital A</td>\n",
       "      <td>GSK0001</td>\n",
       "      <td>M</td>\n",
       "      <td>79</td>\n",
       "      <td>MIXED</td>\n",
       "      <td>NaN</td>\n",
       "      <td>NaN</td>\n",
       "      <td>False</td>\n",
       "      <td>False</td>\n",
       "      <td>26</td>\n",
       "      <td>653</td>\n",
       "      <td>635</td>\n",
       "      <td>651</td>\n",
       "      <td>646.333333</td>\n",
       "    </tr>\n",
       "    <tr>\n",
       "      <th>3</th>\n",
       "      <td>Hospital A</td>\n",
       "      <td>GSK0004</td>\n",
       "      <td>M</td>\n",
       "      <td>73</td>\n",
       "      <td>BLACK</td>\n",
       "      <td>NaN</td>\n",
       "      <td>Heart</td>\n",
       "      <td>False</td>\n",
       "      <td>False</td>\n",
       "      <td>22</td>\n",
       "      <td>414</td>\n",
       "      <td>412</td>\n",
       "      <td>412</td>\n",
       "      <td>412.666667</td>\n",
       "    </tr>\n",
       "    <tr>\n",
       "      <th>7</th>\n",
       "      <td>Hospital A</td>\n",
       "      <td>GSK0008</td>\n",
       "      <td>M</td>\n",
       "      <td>69</td>\n",
       "      <td>MIXED</td>\n",
       "      <td>NaN</td>\n",
       "      <td>NaN</td>\n",
       "      <td>False</td>\n",
       "      <td>False</td>\n",
       "      <td>30</td>\n",
       "      <td>827</td>\n",
       "      <td>810</td>\n",
       "      <td>818</td>\n",
       "      <td>818.333333</td>\n",
       "    </tr>\n",
       "    <tr>\n",
       "      <th>8</th>\n",
       "      <td>Hospital A</td>\n",
       "      <td>GSK0009</td>\n",
       "      <td>F</td>\n",
       "      <td>91</td>\n",
       "      <td>BLACK</td>\n",
       "      <td>NaN</td>\n",
       "      <td>NaN</td>\n",
       "      <td>False</td>\n",
       "      <td>False</td>\n",
       "      <td>21</td>\n",
       "      <td>476</td>\n",
       "      <td>469</td>\n",
       "      <td>473</td>\n",
       "      <td>472.666667</td>\n",
       "    </tr>\n",
       "    <tr>\n",
       "      <th>9</th>\n",
       "      <td>Hospital A</td>\n",
       "      <td>GSK0010</td>\n",
       "      <td>F</td>\n",
       "      <td>81</td>\n",
       "      <td>BLACK</td>\n",
       "      <td>NaN</td>\n",
       "      <td>Other</td>\n",
       "      <td>False</td>\n",
       "      <td>False</td>\n",
       "      <td>26</td>\n",
       "      <td>455</td>\n",
       "      <td>440</td>\n",
       "      <td>448</td>\n",
       "      <td>447.666667</td>\n",
       "    </tr>\n",
       "  </tbody>\n",
       "</table>\n",
       "</div>"
      ],
      "text/plain": [
       "       SITEID   SUBJID SEX  AGE   RACE ALLERGY MEDICAL  SMOKER LAST_DOSE_FLU   \n",
       "0  Hospital A  GSK0001   M   79  MIXED     NaN     NaN   False         False  \\\n",
       "3  Hospital A  GSK0004   M   73  BLACK     NaN   Heart   False         False   \n",
       "7  Hospital A  GSK0008   M   69  MIXED     NaN     NaN   False         False   \n",
       "8  Hospital A  GSK0009   F   91  BLACK     NaN     NaN   False         False   \n",
       "9  Hospital A  GSK0010   F   81  BLACK     NaN   Other   False         False   \n",
       "\n",
       "   BMI  PEAK_FLOW_1  PEAK_FLOW_2  PEAK_FLOW_3  PEAK_FLOW_MEAN  \n",
       "0   26          653          635          651      646.333333  \n",
       "3   22          414          412          412      412.666667  \n",
       "7   30          827          810          818      818.333333  \n",
       "8   21          476          469          473      472.666667  \n",
       "9   26          455          440          448      447.666667  "
      ]
     },
     "execution_count": 7,
     "metadata": {},
     "output_type": "execute_result"
    }
   ],
   "source": [
    "inclusion_exclusion_criteria = {\n",
    "    \"AGE\"               : (lambda age: age >= 50),                          # Age must be more than 50\n",
    "    \"PEAK_FLOW_MEAN\"    : (lambda peak_flow_mean: peak_flow_mean >= 400),   # The peak flow must be more than 400\n",
    "    \"LAST_DOSE_FLU\"     : (lambda last_dose_flu: not last_dose_flu),        # Should not have had a flu shot in the last 6 months\n",
    "    \"ALLERGY\"           : (lambda allergy: allergy != \"Egg\"),               # Should not have an egg allergy\n",
    "    \"MEDICAL\"           : (lambda medical: medical != \"Respiratory\"),       # Should not have a history of respiratory conditions\n",
    "    \"BMI\"               : (lambda bmi: 18 <= bmi <= 32),                    # Should have a BMI between 18-32\n",
    "    \"SMOKER\"            : (lambda smoker: not smoker),                      # Should not be a smoker\n",
    "}\n",
    "\n",
    "# Stores the indexes of the patients who can't participate in the clinical trials \n",
    "invalid_patients = set()\n",
    "for index, row in df.iterrows():\n",
    "    #print(row)\n",
    "    patient_valid = True    # Can the patient take part in the clinical trial? \n",
    "    for column, field in row.items():\n",
    "        if not inclusion_exclusion_criteria.get(column, lambda _: True)(field):  # Checks the criteria to see if the field is valid or not\n",
    "            patient_valid = False\n",
    "    if not patient_valid:\n",
    "        invalid_patients.add(index)\n",
    "    \n",
    "clinical_trial_patients_df = df.drop(invalid_patients)\n",
    "\n",
    "print(f\"There are {len(clinical_trial_patients_df.index)} patients who can do the clinical trial\")\n",
    "\n",
    "clinical_trial_patients_df.head()\n",
    "    "
   ]
  },
  {
   "cell_type": "code",
   "execution_count": 15,
   "metadata": {},
   "outputs": [
    {
     "name": "stdout",
     "output_type": "stream",
     "text": [
      "Hospital A has 54 valid patients who can participate in the clinical trials.\n",
      "Hospital B has 154 valid patients who can participate in the clinical trials.\n",
      "Hospital C has 118 valid patients who can participate in the clinical trials.\n",
      "Hospital D has 101 valid patients who can participate in the clinical trials.\n",
      "Hospital E has 26 valid patients who can participate in the clinical trials.\n"
     ]
    }
   ],
   "source": [
    "site_ids = df[\"SITEID\"].unique()\n",
    "\n",
    "patients_per_site = {\n",
    "    site_id : (valid_patients := \n",
    "            len(clinical_trial_patients_df[clinical_trial_patients_df[\"SITEID\"] == site_id].index))  \n",
    "        for site_id in site_ids\n",
    "}\n",
    "\n",
    "for site_id in patients_per_site:\n",
    "    print(f\"{site_id} has {patients_per_site[site_id]} valid patients who can participate in the clinical trials.\")"
   ]
  },
  {
   "attachments": {},
   "cell_type": "markdown",
   "metadata": {},
   "source": [
    "From this, we can see that the sites with the most patients who can participate in the clinical trials are Hospitals B and C, so in order to reach the quota of at least 200 patients to take part in the trial, I would choose Hosptal B and Hospital C which would give a total of 272 possible patients to take part in the trial."
   ]
  }
 ],
 "metadata": {
  "kernelspec": {
   "display_name": ".venv",
   "language": "python",
   "name": "python3"
  },
  "language_info": {
   "codemirror_mode": {
    "name": "ipython",
    "version": 3
   },
   "file_extension": ".py",
   "mimetype": "text/x-python",
   "name": "python",
   "nbconvert_exporter": "python",
   "pygments_lexer": "ipython3",
   "version": "3.10.6"
  },
  "orig_nbformat": 4
 },
 "nbformat": 4,
 "nbformat_minor": 2
}
