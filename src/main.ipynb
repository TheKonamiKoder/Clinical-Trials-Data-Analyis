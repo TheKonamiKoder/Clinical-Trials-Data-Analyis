{
 "cells": [
  {
   "cell_type": "code",
   "execution_count": null,
   "metadata": {},
   "outputs": [],
   "source": [
    "import pandas as pd\n",
    "\n",
    "data_xls = pd.read_excel(\"../GSK Next Step Data set.xlsx\", \"data\", dtype=str)\n",
    "data_xls.to_csv(\"../data/hospitals_data.csv\")"
   ]
  }
 ],
 "metadata": {
  "language_info": {
   "name": "python"
  },
  "orig_nbformat": 4
 },
 "nbformat": 4,
 "nbformat_minor": 2
}
